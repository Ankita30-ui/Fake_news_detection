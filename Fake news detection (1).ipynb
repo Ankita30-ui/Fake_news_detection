{
 "cells": [
  {
   "cell_type": "markdown",
   "metadata": {},
   "source": [
    "## Importing libraries"
   ]
  },
  {
   "cell_type": "code",
   "execution_count": 2,
   "metadata": {},
   "outputs": [],
   "source": [
    "import pandas as pd\n",
    "import numpy as np\n",
    "import os\n",
    "from sklearn.feature_extraction.text import TfidfVectorizer, CountVectorizer\n",
    "from sklearn.feature_extraction.text import HashingVectorizer\n",
    "from sklearn.feature_extraction.text import TfidfTransformer\n",
    "from sklearn.decomposition import NMF, LatentDirichletAllocation\n",
    "from xgboost import XGBClassifier\n",
    "from sklearn.metrics import accuracy_score, confusion_matrix, classification_report\n",
    "from sklearn.ensemble import RandomForestClassifier\n",
    "from sklearn.naive_bayes import MultinomialNB\n",
    "from sklearn import linear_model\n",
    "import matplotlib.pyplot as plt"
   ]
  },
  {
   "cell_type": "code",
   "execution_count": 3,
   "metadata": {},
   "outputs": [],
   "source": [
    "from nltk.corpus import stopwords\n",
    "from sklearn.preprocessing import normalize;"
   ]
  },
  {
   "cell_type": "code",
   "execution_count": 46,
   "metadata": {},
   "outputs": [
    {
     "name": "stdout",
     "output_type": "stream",
     "text": [
      "Requirement already satisfied: xgboost in /home/rupeek/anaconda3/lib/python3.7/site-packages (1.2.0)\n",
      "Requirement already satisfied: scipy in /home/rupeek/anaconda3/lib/python3.7/site-packages (from xgboost) (1.4.1)\n",
      "Requirement already satisfied: numpy in /home/rupeek/anaconda3/lib/python3.7/site-packages (from xgboost) (1.18.1)\n"
     ]
    }
   ],
   "source": [
    "!pip install xgboost"
   ]
  },
  {
   "cell_type": "markdown",
   "metadata": {},
   "source": [
    "## Load Data sets"
   ]
  },
  {
   "cell_type": "code",
   "execution_count": 4,
   "metadata": {},
   "outputs": [
    {
     "data": {
      "text/html": [
       "<div>\n",
       "<style scoped>\n",
       "    .dataframe tbody tr th:only-of-type {\n",
       "        vertical-align: middle;\n",
       "    }\n",
       "\n",
       "    .dataframe tbody tr th {\n",
       "        vertical-align: top;\n",
       "    }\n",
       "\n",
       "    .dataframe thead th {\n",
       "        text-align: right;\n",
       "    }\n",
       "</style>\n",
       "<table border=\"1\" class=\"dataframe\">\n",
       "  <thead>\n",
       "    <tr style=\"text-align: right;\">\n",
       "      <th></th>\n",
       "      <th>Unnamed: 0</th>\n",
       "      <th>title</th>\n",
       "      <th>text</th>\n",
       "      <th>label</th>\n",
       "    </tr>\n",
       "  </thead>\n",
       "  <tbody>\n",
       "    <tr>\n",
       "      <th>0</th>\n",
       "      <td>8476</td>\n",
       "      <td>You Can Smell Hillary’s Fear</td>\n",
       "      <td>Daniel Greenfield, a Shillman Journalism Fello...</td>\n",
       "      <td>FAKE</td>\n",
       "    </tr>\n",
       "    <tr>\n",
       "      <th>1</th>\n",
       "      <td>10294</td>\n",
       "      <td>Watch The Exact Moment Paul Ryan Committed Pol...</td>\n",
       "      <td>Google Pinterest Digg Linkedin Reddit Stumbleu...</td>\n",
       "      <td>FAKE</td>\n",
       "    </tr>\n",
       "    <tr>\n",
       "      <th>2</th>\n",
       "      <td>3608</td>\n",
       "      <td>Kerry to go to Paris in gesture of sympathy</td>\n",
       "      <td>U.S. Secretary of State John F. Kerry said Mon...</td>\n",
       "      <td>REAL</td>\n",
       "    </tr>\n",
       "    <tr>\n",
       "      <th>3</th>\n",
       "      <td>10142</td>\n",
       "      <td>Bernie supporters on Twitter erupt in anger ag...</td>\n",
       "      <td>— Kaydee King (@KaydeeKing) November 9, 2016 T...</td>\n",
       "      <td>FAKE</td>\n",
       "    </tr>\n",
       "    <tr>\n",
       "      <th>4</th>\n",
       "      <td>875</td>\n",
       "      <td>The Battle of New York: Why This Primary Matters</td>\n",
       "      <td>It's primary day in New York and front-runners...</td>\n",
       "      <td>REAL</td>\n",
       "    </tr>\n",
       "  </tbody>\n",
       "</table>\n",
       "</div>"
      ],
      "text/plain": [
       "   Unnamed: 0                                              title  \\\n",
       "0        8476                       You Can Smell Hillary’s Fear   \n",
       "1       10294  Watch The Exact Moment Paul Ryan Committed Pol...   \n",
       "2        3608        Kerry to go to Paris in gesture of sympathy   \n",
       "3       10142  Bernie supporters on Twitter erupt in anger ag...   \n",
       "4         875   The Battle of New York: Why This Primary Matters   \n",
       "\n",
       "                                                text label  \n",
       "0  Daniel Greenfield, a Shillman Journalism Fello...  FAKE  \n",
       "1  Google Pinterest Digg Linkedin Reddit Stumbleu...  FAKE  \n",
       "2  U.S. Secretary of State John F. Kerry said Mon...  REAL  \n",
       "3  — Kaydee King (@KaydeeKing) November 9, 2016 T...  FAKE  \n",
       "4  It's primary day in New York and front-runners...  REAL  "
      ]
     },
     "execution_count": 4,
     "metadata": {},
     "output_type": "execute_result"
    }
   ],
   "source": [
    "info_df = pd.read_csv('/home/rupeek/Desktop/ML &AI/Fake news detection/news.csv')\n",
    "info_df.head()"
   ]
  },
  {
   "cell_type": "markdown",
   "metadata": {},
   "source": [
    "## Explore the Data"
   ]
  },
  {
   "cell_type": "code",
   "execution_count": 7,
   "metadata": {},
   "outputs": [],
   "source": [
    "#instantiate CountVectorizer()\n",
    "cv=CountVectorizer()#create matrix dXm(doc and words)\n",
    " \n",
    "# this steps generates word counts for the words in your docs\n",
    "word_count_vector=cv.fit_transform(info_df[\"text\"])\n",
    " "
   ]
  },
  {
   "cell_type": "code",
   "execution_count": 8,
   "metadata": {},
   "outputs": [
    {
     "data": {
      "text/plain": [
       "(6335, 67659)"
      ]
     },
     "execution_count": 8,
     "metadata": {},
     "output_type": "execute_result"
    }
   ],
   "source": [
    "word_count_vector.shape"
   ]
  },
  {
   "cell_type": "code",
   "execution_count": 9,
   "metadata": {},
   "outputs": [],
   "source": [
    "tfidf_transformer = TfidfTransformer(smooth_idf=True,use_idf=True)\n",
    "tf_idf_vector = tfidf_transformer.fit_transform(word_count_vector)"
   ]
  },
  {
   "cell_type": "code",
   "execution_count": 10,
   "metadata": {},
   "outputs": [
    {
     "data": {
      "text/plain": [
       "['00',\n",
       " '000',\n",
       " '0000',\n",
       " '000000031',\n",
       " '00000031',\n",
       " '000035',\n",
       " '00006',\n",
       " '0001',\n",
       " '0001pt',\n",
       " '0002',\n",
       " '000billion',\n",
       " '000ft',\n",
       " '000km',\n",
       " '000x',\n",
       " '001',\n",
       " '0011',\n",
       " '002',\n",
       " '003',\n",
       " '004',\n",
       " '004s',\n",
       " '005',\n",
       " '005s',\n",
       " '006',\n",
       " '00684',\n",
       " '006s',\n",
       " '007',\n",
       " '007s',\n",
       " '008',\n",
       " '008s',\n",
       " '009',\n",
       " '0099',\n",
       " '00am',\n",
       " '00p',\n",
       " '00pm',\n",
       " '01',\n",
       " '010',\n",
       " '011',\n",
       " '012',\n",
       " '013',\n",
       " '013c2812c9',\n",
       " '014',\n",
       " '015',\n",
       " '016',\n",
       " '018',\n",
       " '01am',\n",
       " '02',\n",
       " '020',\n",
       " '022',\n",
       " '023',\n",
       " '024',\n",
       " '025',\n",
       " '027',\n",
       " '02714',\n",
       " '028',\n",
       " '02870',\n",
       " '02welcome',\n",
       " '03',\n",
       " '030',\n",
       " '031',\n",
       " '032',\n",
       " '0325',\n",
       " '033',\n",
       " '034',\n",
       " '035',\n",
       " '037',\n",
       " '03747',\n",
       " '039',\n",
       " '03eb',\n",
       " '04',\n",
       " '040',\n",
       " '0400',\n",
       " '042',\n",
       " '044',\n",
       " '047',\n",
       " '048',\n",
       " '049',\n",
       " '04pm',\n",
       " '05',\n",
       " '050',\n",
       " '0509245d29',\n",
       " '052',\n",
       " '053',\n",
       " '056',\n",
       " '058',\n",
       " '06',\n",
       " '0600',\n",
       " '062',\n",
       " '063',\n",
       " '0640',\n",
       " '066',\n",
       " '068',\n",
       " '06pm',\n",
       " '07',\n",
       " '0700',\n",
       " '071',\n",
       " '075',\n",
       " '0750',\n",
       " '076',\n",
       " '079',\n",
       " '07dryempjx',\n",
       " '08',\n",
       " '080',\n",
       " '081',\n",
       " '082',\n",
       " '084',\n",
       " '0843',\n",
       " '085',\n",
       " '0851',\n",
       " '089',\n",
       " '0891',\n",
       " '09',\n",
       " '091',\n",
       " '093',\n",
       " '098263',\n",
       " '09am',\n",
       " '09pm',\n",
       " '0_65b67362bd',\n",
       " '0_jgdktlmn',\n",
       " '0_kvyhphja',\n",
       " '0a_merrill',\n",
       " '0b6njlny5j',\n",
       " '0d',\n",
       " '0dpbdk6rjd',\n",
       " '0fjjvowyhg8qtskiz',\n",
       " '0h4at2yetra17uxetni02ls2jeg0mty45jrcu7mrzsrpcbq464i',\n",
       " '0hour',\n",
       " '0hq3vb2giv',\n",
       " '0in',\n",
       " '0jsn6pjkan',\n",
       " '0oeekvljlt',\n",
       " '0pt',\n",
       " '0t5',\n",
       " '0txrbwvobzz4fi5nksw6k5a6cxzbb3juxthmdiz93cby8gvrqiypzhajvjnt2',\n",
       " '0womdwalmi',\n",
       " '0x',\n",
       " '10',\n",
       " '100',\n",
       " '1000',\n",
       " '10000s',\n",
       " '10009020',\n",
       " '1000s',\n",
       " '1001',\n",
       " '10021',\n",
       " '10028',\n",
       " '100515p',\n",
       " '100bn',\n",
       " '100c',\n",
       " '100k',\n",
       " '100m',\n",
       " '100percentfedup',\n",
       " '100s',\n",
       " '100th',\n",
       " '101',\n",
       " '1010359',\n",
       " '1013',\n",
       " '1014',\n",
       " '1019',\n",
       " '101st',\n",
       " '102',\n",
       " '1024026',\n",
       " '1026',\n",
       " '102816',\n",
       " '102836002',\n",
       " '102k',\n",
       " '102m',\n",
       " '103',\n",
       " '1033',\n",
       " '103rd',\n",
       " '104',\n",
       " '1040',\n",
       " '1040s',\n",
       " '104396002',\n",
       " '1046870142',\n",
       " '1046870197',\n",
       " '104893',\n",
       " '104th',\n",
       " '105',\n",
       " '1050',\n",
       " '106',\n",
       " '106116001',\n",
       " '1066',\n",
       " '107',\n",
       " '1070',\n",
       " '107th',\n",
       " '108',\n",
       " '1087',\n",
       " '109',\n",
       " '1095',\n",
       " '1098',\n",
       " '10990',\n",
       " '10995',\n",
       " '10997',\n",
       " '10998',\n",
       " '10999',\n",
       " '109th',\n",
       " '10bn',\n",
       " '10ft',\n",
       " '10k',\n",
       " '10kb',\n",
       " '10m',\n",
       " '10m54s',\n",
       " '10mm',\n",
       " '10pm',\n",
       " '10s',\n",
       " '10th',\n",
       " '10ths',\n",
       " '10x',\n",
       " '10yrs',\n",
       " '11',\n",
       " '110',\n",
       " '1100',\n",
       " '11000',\n",
       " '11001',\n",
       " '11002',\n",
       " '11003',\n",
       " '11004',\n",
       " '11005',\n",
       " '1100s',\n",
       " '1101',\n",
       " '110136001',\n",
       " '11049',\n",
       " '1105',\n",
       " '11051',\n",
       " '110k',\n",
       " '111',\n",
       " '11110',\n",
       " '112',\n",
       " '1121',\n",
       " '112145924',\n",
       " '1122930jg',\n",
       " '112th',\n",
       " '113',\n",
       " '11310',\n",
       " '1133',\n",
       " '113bn',\n",
       " '114',\n",
       " '1146',\n",
       " '114th',\n",
       " '115',\n",
       " '11540',\n",
       " '115aug',\n",
       " '115th',\n",
       " '116',\n",
       " '1160',\n",
       " '117',\n",
       " '11702',\n",
       " '1176',\n",
       " '118',\n",
       " '1180',\n",
       " '1183',\n",
       " '119',\n",
       " '1190',\n",
       " '11921',\n",
       " '11am',\n",
       " '11cm',\n",
       " '11e6',\n",
       " '11m',\n",
       " '11mn',\n",
       " '11pm',\n",
       " '11th',\n",
       " '11truther',\n",
       " '12',\n",
       " '120',\n",
       " '1200',\n",
       " '1207',\n",
       " '121',\n",
       " '12148',\n",
       " '1219',\n",
       " '122',\n",
       " '1228',\n",
       " '123',\n",
       " '12333',\n",
       " '123421',\n",
       " '12345',\n",
       " '124',\n",
       " '1244',\n",
       " '124th',\n",
       " '125',\n",
       " '1252',\n",
       " '126',\n",
       " '1261',\n",
       " '12619print',\n",
       " '1265',\n",
       " '12656',\n",
       " '127',\n",
       " '127million',\n",
       " '127th',\n",
       " '128',\n",
       " '1280',\n",
       " '1287',\n",
       " '128th',\n",
       " '129',\n",
       " '12919',\n",
       " '12am',\n",
       " '12b',\n",
       " '12hdlgeeua87t2ju8m4tbro247yj5u2tvp',\n",
       " '12k',\n",
       " '12m',\n",
       " '12mn',\n",
       " '12news',\n",
       " '12pm',\n",
       " '12sso1zj2bbdguiraddmamlnets7oc1',\n",
       " '12t',\n",
       " '12th',\n",
       " '13',\n",
       " '130',\n",
       " '1300',\n",
       " '1301',\n",
       " '1305',\n",
       " '130500',\n",
       " '130j',\n",
       " '130m',\n",
       " '131',\n",
       " '132',\n",
       " '1324',\n",
       " '133',\n",
       " '133rd',\n",
       " '134',\n",
       " '135',\n",
       " '135s',\n",
       " '136',\n",
       " '13603',\n",
       " '1364',\n",
       " '137',\n",
       " '138',\n",
       " '139',\n",
       " '1393',\n",
       " '13th',\n",
       " '13the',\n",
       " '13y',\n",
       " '13½',\n",
       " '14',\n",
       " '140',\n",
       " '1400',\n",
       " '1400s',\n",
       " '1401',\n",
       " '140230',\n",
       " '141',\n",
       " '142',\n",
       " '1425817301725',\n",
       " '143',\n",
       " '143m',\n",
       " '144',\n",
       " '14474',\n",
       " '14482302',\n",
       " '145',\n",
       " '146',\n",
       " '1460',\n",
       " '147',\n",
       " '1474',\n",
       " '14774',\n",
       " '148',\n",
       " '1483',\n",
       " '149',\n",
       " '1492',\n",
       " '14k',\n",
       " '14kwh',\n",
       " '14m',\n",
       " '14mm',\n",
       " '14th',\n",
       " '15',\n",
       " '150',\n",
       " '1500',\n",
       " '1500m',\n",
       " '1500s',\n",
       " '150m',\n",
       " '150th',\n",
       " '151',\n",
       " '1513',\n",
       " '1517',\n",
       " '152',\n",
       " '1521',\n",
       " '1522',\n",
       " '153',\n",
       " '1538',\n",
       " '154',\n",
       " '1543',\n",
       " '155',\n",
       " '1552',\n",
       " '1555',\n",
       " '1559',\n",
       " '156',\n",
       " '1562',\n",
       " '1563',\n",
       " '1566',\n",
       " '1569',\n",
       " '157',\n",
       " '1576',\n",
       " '1578',\n",
       " '158',\n",
       " '1584',\n",
       " '1588',\n",
       " '15893',\n",
       " '159',\n",
       " '1591',\n",
       " '15975445007',\n",
       " '15am',\n",
       " '15b',\n",
       " '15bn',\n",
       " '15e',\n",
       " '15ft',\n",
       " '15million',\n",
       " '15mm',\n",
       " '15pm',\n",
       " '15s',\n",
       " '15th',\n",
       " '15u71',\n",
       " '15yrs',\n",
       " '16',\n",
       " '160',\n",
       " '1600',\n",
       " '1600s',\n",
       " '1603',\n",
       " '1604',\n",
       " '1605',\n",
       " '1606',\n",
       " '160716',\n",
       " '161',\n",
       " '1610',\n",
       " '161029',\n",
       " '1612',\n",
       " '162',\n",
       " '1621',\n",
       " '16236675004',\n",
       " '1624575',\n",
       " '162lvbnkan',\n",
       " '163',\n",
       " '1630',\n",
       " '164',\n",
       " '165',\n",
       " '1650',\n",
       " '1652',\n",
       " '1653',\n",
       " '166',\n",
       " '167',\n",
       " '168',\n",
       " '1689',\n",
       " '169',\n",
       " '16bn',\n",
       " '16k',\n",
       " '16s',\n",
       " '16th',\n",
       " '17',\n",
       " '170',\n",
       " '1700',\n",
       " '1700s',\n",
       " '17025',\n",
       " '1708',\n",
       " '170c',\n",
       " '171',\n",
       " '1711',\n",
       " '172',\n",
       " '1720',\n",
       " '173',\n",
       " '1730s',\n",
       " '174',\n",
       " '1745',\n",
       " '175',\n",
       " '1752',\n",
       " '1757',\n",
       " '176',\n",
       " '1763',\n",
       " '1766',\n",
       " '177',\n",
       " '1770',\n",
       " '1775',\n",
       " '1776',\n",
       " '1777',\n",
       " '178',\n",
       " '1780',\n",
       " '1784',\n",
       " '1786',\n",
       " '1787',\n",
       " '1788',\n",
       " '1789',\n",
       " '179',\n",
       " '1790',\n",
       " '1791',\n",
       " '1793',\n",
       " '1793qianlong',\n",
       " '1795583',\n",
       " '1797',\n",
       " '1798',\n",
       " '1799',\n",
       " '17b2908f',\n",
       " '17k',\n",
       " '17s',\n",
       " '17th',\n",
       " '18',\n",
       " '180',\n",
       " '1800',\n",
       " '1800s',\n",
       " '1801',\n",
       " '1804',\n",
       " '1806',\n",
       " '1808',\n",
       " '181',\n",
       " '1812',\n",
       " '1814',\n",
       " '1815',\n",
       " '1816',\n",
       " '1817',\n",
       " '1818',\n",
       " '182',\n",
       " '1820',\n",
       " '1820s',\n",
       " '1821',\n",
       " '1822',\n",
       " '1823',\n",
       " '1824',\n",
       " '1825',\n",
       " '1827',\n",
       " '1829',\n",
       " '182nd',\n",
       " '183',\n",
       " '1830',\n",
       " '1830s',\n",
       " '1831',\n",
       " '1834',\n",
       " '1835',\n",
       " '1837',\n",
       " '1838',\n",
       " '1839',\n",
       " '184',\n",
       " '1840',\n",
       " '1840s',\n",
       " '1841',\n",
       " '1842',\n",
       " '1843',\n",
       " '1844',\n",
       " '1845',\n",
       " '1846',\n",
       " '1847',\n",
       " '1848',\n",
       " '1849',\n",
       " '185',\n",
       " '1850',\n",
       " '1850s',\n",
       " '1851',\n",
       " '1853',\n",
       " '1854',\n",
       " '1855',\n",
       " '1856',\n",
       " '1857',\n",
       " '1858',\n",
       " '1859',\n",
       " '186',\n",
       " '1860',\n",
       " '1860s',\n",
       " '1861',\n",
       " '1862',\n",
       " '1863',\n",
       " '1864',\n",
       " '1865',\n",
       " '1868',\n",
       " '1869',\n",
       " '187',\n",
       " '1870',\n",
       " '1870s',\n",
       " '1871',\n",
       " '1872',\n",
       " '1873',\n",
       " '1876',\n",
       " '1877',\n",
       " '1878',\n",
       " '188',\n",
       " '1880',\n",
       " '1881',\n",
       " '1882',\n",
       " '1883',\n",
       " '1884',\n",
       " '1885',\n",
       " '1886',\n",
       " '1887',\n",
       " '1888',\n",
       " '189',\n",
       " '1890',\n",
       " '1890s',\n",
       " '1892',\n",
       " '1893',\n",
       " '1895',\n",
       " '1896',\n",
       " '1897',\n",
       " '1898',\n",
       " '1899',\n",
       " '18f',\n",
       " '18m',\n",
       " '18th',\n",
       " '19',\n",
       " '190',\n",
       " '1900',\n",
       " '1900s',\n",
       " '1901',\n",
       " '1902',\n",
       " '1903',\n",
       " '1904',\n",
       " '1905',\n",
       " '1906',\n",
       " '1907',\n",
       " '1908',\n",
       " '1909',\n",
       " '190th',\n",
       " '191',\n",
       " '1910',\n",
       " '1910s',\n",
       " '1911',\n",
       " '1912',\n",
       " '1913',\n",
       " '1914',\n",
       " '1915',\n",
       " '1916',\n",
       " '1917',\n",
       " '1918',\n",
       " '1919',\n",
       " '191bn',\n",
       " '192',\n",
       " '1920',\n",
       " '1920s',\n",
       " '1921',\n",
       " '1922',\n",
       " '1923',\n",
       " '1924',\n",
       " '1925',\n",
       " '1926',\n",
       " '1927',\n",
       " '1928',\n",
       " '1929',\n",
       " '193',\n",
       " '1930',\n",
       " '1930s',\n",
       " '1931',\n",
       " '1932',\n",
       " '1933',\n",
       " '1934',\n",
       " '1935',\n",
       " '1936',\n",
       " '1937',\n",
       " '1938',\n",
       " '1939',\n",
       " '194',\n",
       " '1940',\n",
       " '1940s',\n",
       " '1941',\n",
       " '1942',\n",
       " '1943',\n",
       " '1944',\n",
       " '1945',\n",
       " '1946',\n",
       " '1947',\n",
       " '1948',\n",
       " '1949',\n",
       " '195',\n",
       " '1950',\n",
       " '1950s',\n",
       " '1951',\n",
       " '1952',\n",
       " '1953',\n",
       " '1954',\n",
       " '1955',\n",
       " '1956',\n",
       " '1957',\n",
       " '1958',\n",
       " '19580395003',\n",
       " '19580405001',\n",
       " '1959',\n",
       " '195th',\n",
       " '196',\n",
       " '1960',\n",
       " '1960s',\n",
       " '1961',\n",
       " '19617315012',\n",
       " '1962',\n",
       " '1963',\n",
       " '1964',\n",
       " '1965',\n",
       " '1966',\n",
       " '1967',\n",
       " '1968',\n",
       " '1969',\n",
       " '197',\n",
       " '1970',\n",
       " '1970s',\n",
       " '1971',\n",
       " '1972',\n",
       " '1973',\n",
       " '1974',\n",
       " '1975',\n",
       " '1976',\n",
       " '1977',\n",
       " '1978',\n",
       " '1979',\n",
       " '1980',\n",
       " '1980s',\n",
       " '1981',\n",
       " '1982',\n",
       " '1983',\n",
       " '1984',\n",
       " '1985',\n",
       " '1986',\n",
       " '1987',\n",
       " '1988',\n",
       " '1989',\n",
       " '198974609375',\n",
       " '199',\n",
       " '1990',\n",
       " '1990s',\n",
       " '1991',\n",
       " '1992',\n",
       " '1993',\n",
       " '1994',\n",
       " '1995',\n",
       " '1996',\n",
       " '1997',\n",
       " '1998',\n",
       " '1999',\n",
       " '19m',\n",
       " '19th',\n",
       " '1_2',\n",
       " '1alvwe4bralkh',\n",
       " '1ao',\n",
       " '1b',\n",
       " '1b1',\n",
       " '1bbswheiehlqifxzus3j35',\n",
       " '1billion',\n",
       " '1bjxt3uhim5fqn93gb0hkxakuarz99d7xcitzftye',\n",
       " '1bn',\n",
       " '1bs',\n",
       " '1huziqim53',\n",
       " '1hztlj',\n",
       " '1is9krdfnysv0buhf8elizydmsrpwn944flw1tofjw46j4uaxsbrbp284wifmv8n',\n",
       " '1jquvafupk',\n",
       " '1k',\n",
       " '1lb',\n",
       " '1lolamarina',\n",
       " '1m',\n",
       " '1m08s',\n",
       " '1mdb',\n",
       " '1mg',\n",
       " '1mgfbvy',\n",
       " '1million',\n",
       " '1mm',\n",
       " '1mwvcarc3jsuon8rrxype4espweqzd6zsrbhgh4uqf56pcft2ubnqku4wtgoecsw',\n",
       " '1o6qorkewr',\n",
       " '1oo',\n",
       " '1oth',\n",
       " '1oxutnexun',\n",
       " '1st',\n",
       " '1tn',\n",
       " '1tr',\n",
       " '1tsp',\n",
       " '1vwbsd9c79',\n",
       " '1wrwsaijjsohk5rzj',\n",
       " '1z',\n",
       " '20',\n",
       " '200',\n",
       " '2000',\n",
       " '20001',\n",
       " '2000mg',\n",
       " '2000s',\n",
       " '2001',\n",
       " '20017',\n",
       " '2002',\n",
       " '2003',\n",
       " '2004',\n",
       " '2005',\n",
       " '2006',\n",
       " '2007',\n",
       " '2008',\n",
       " '2009',\n",
       " '200bln',\n",
       " '200k',\n",
       " '200m',\n",
       " '200x',\n",
       " '201',\n",
       " '2010',\n",
       " '2010s',\n",
       " '2011',\n",
       " '2012',\n",
       " '2012campaign',\n",
       " '2012newstart',\n",
       " '2013',\n",
       " '2014',\n",
       " '2015',\n",
       " '20150308054059',\n",
       " '2016',\n",
       " '20161026_spain1',\n",
       " '20161026_spain3',\n",
       " '201611061047117877',\n",
       " '20161109183253',\n",
       " '2016a',\n",
       " '2016b',\n",
       " '2016ers',\n",
       " '2017',\n",
       " '2018',\n",
       " '2019',\n",
       " '202',\n",
       " '2020',\n",
       " '2020s',\n",
       " '2021',\n",
       " '2022',\n",
       " '2023',\n",
       " '2024',\n",
       " '2025',\n",
       " '2026',\n",
       " '2027',\n",
       " '203',\n",
       " '2030',\n",
       " '2030s',\n",
       " '2032',\n",
       " '2033',\n",
       " '2034',\n",
       " '2035',\n",
       " '2036',\n",
       " '2040',\n",
       " '2042',\n",
       " '2043',\n",
       " '2045',\n",
       " '2048',\n",
       " '205',\n",
       " '2050',\n",
       " '20500',\n",
       " '20535',\n",
       " '206',\n",
       " '2060',\n",
       " '2061',\n",
       " '2064',\n",
       " '207',\n",
       " '2071',\n",
       " '2074',\n",
       " '208',\n",
       " '209',\n",
       " '2090',\n",
       " '20am',\n",
       " '20book',\n",
       " '20gs',\n",
       " '20k',\n",
       " '20m',\n",
       " '20million',\n",
       " '20p',\n",
       " '20power',\n",
       " '20s',\n",
       " '20th',\n",
       " '20tn',\n",
       " '21',\n",
       " '210',\n",
       " '2100',\n",
       " '2102',\n",
       " '211',\n",
       " '2110',\n",
       " '2117',\n",
       " '212',\n",
       " '213',\n",
       " '2130',\n",
       " '214',\n",
       " '2146815',\n",
       " '2149237058061490',\n",
       " '214r',\n",
       " '215',\n",
       " '216',\n",
       " '2160',\n",
       " '217',\n",
       " '218',\n",
       " '218k',\n",
       " '219',\n",
       " '21mn',\n",
       " '21s',\n",
       " '21st',\n",
       " '21wire',\n",
       " '22',\n",
       " '220',\n",
       " '2202',\n",
       " '2205',\n",
       " '221',\n",
       " '221day_m25',\n",
       " '222',\n",
       " '223',\n",
       " '2231',\n",
       " '2235360',\n",
       " '224',\n",
       " '225',\n",
       " '226',\n",
       " '226t',\n",
       " '227',\n",
       " '227kg',\n",
       " '228',\n",
       " '229',\n",
       " '22_1171',\n",
       " '22am',\n",
       " '22autoupdate',\n",
       " '22basemap',\n",
       " '22default',\n",
       " '22event',\n",
       " '22feed',\n",
       " '22grayscale',\n",
       " '22list',\n",
       " '22listformat',\n",
       " '22lr',\n",
       " '22m',\n",
       " '22m3',\n",
       " '22map',\n",
       " '22mapposition',\n",
       " '22nd',\n",
       " '22newest',\n",
       " '22overlays',\n",
       " '22plates',\n",
       " '22pm',\n",
       " '22restrictlisttomap',\n",
       " '22search',\n",
       " '22sort',\n",
       " '22th',\n",
       " '22timezone',\n",
       " '22us1000778i',\n",
       " '22utc',\n",
       " '22viewmodes',\n",
       " '23',\n",
       " '230',\n",
       " '231',\n",
       " '232',\n",
       " '233',\n",
       " '234',\n",
       " '2344',\n",
       " '235',\n",
       " '236',\n",
       " '237',\n",
       " '238',\n",
       " '239',\n",
       " '23a007c77bb4_story',\n",
       " '23k',\n",
       " '23rd',\n",
       " '24',\n",
       " '240',\n",
       " '241',\n",
       " '242',\n",
       " '243',\n",
       " '244',\n",
       " '24454002',\n",
       " '244th',\n",
       " '245',\n",
       " '2450',\n",
       " '246',\n",
       " '247',\n",
       " '2472',\n",
       " '247th',\n",
       " '248',\n",
       " '24888',\n",
       " '249',\n",
       " '24news',\n",
       " '24th',\n",
       " '25',\n",
       " '250',\n",
       " '2500',\n",
       " '25018606',\n",
       " '250m',\n",
       " '251',\n",
       " '2510',\n",
       " '2513',\n",
       " '252',\n",
       " '253',\n",
       " '253207',\n",
       " '254',\n",
       " '25421',\n",
       " '2544',\n",
       " '255',\n",
       " '2552',\n",
       " '256',\n",
       " '257',\n",
       " '25751119',\n",
       " '258',\n",
       " '259',\n",
       " '25am',\n",
       " '25m',\n",
       " '25th',\n",
       " '25the',\n",
       " '26',\n",
       " '260',\n",
       " '261',\n",
       " '262',\n",
       " '263',\n",
       " '2635',\n",
       " '264',\n",
       " '265',\n",
       " '2656002',\n",
       " '266',\n",
       " '267',\n",
       " '2670',\n",
       " '268',\n",
       " '269',\n",
       " '26t18',\n",
       " '26th',\n",
       " '27',\n",
       " '270',\n",
       " '2700',\n",
       " '2700922',\n",
       " '27026',\n",
       " '2703',\n",
       " '271',\n",
       " '2711',\n",
       " '27111',\n",
       " '272',\n",
       " '273',\n",
       " ...]"
      ]
     },
     "execution_count": 10,
     "metadata": {},
     "output_type": "execute_result"
    }
   ],
   "source": [
    "cv.get_feature_names()"
   ]
  },
  {
   "cell_type": "code",
   "execution_count": 11,
   "metadata": {},
   "outputs": [
    {
     "data": {
      "text/html": [
       "<div>\n",
       "<style scoped>\n",
       "    .dataframe tbody tr th:only-of-type {\n",
       "        vertical-align: middle;\n",
       "    }\n",
       "\n",
       "    .dataframe tbody tr th {\n",
       "        vertical-align: top;\n",
       "    }\n",
       "\n",
       "    .dataframe thead th {\n",
       "        text-align: right;\n",
       "    }\n",
       "</style>\n",
       "<table border=\"1\" class=\"dataframe\">\n",
       "  <thead>\n",
       "    <tr style=\"text-align: right;\">\n",
       "      <th></th>\n",
       "      <th>tfidf</th>\n",
       "    </tr>\n",
       "  </thead>\n",
       "  <tbody>\n",
       "    <tr>\n",
       "      <th>fbi</th>\n",
       "      <td>0.445587</td>\n",
       "    </tr>\n",
       "    <tr>\n",
       "      <th>the</th>\n",
       "      <td>0.413941</td>\n",
       "    </tr>\n",
       "    <tr>\n",
       "      <th>comey</th>\n",
       "      <td>0.200964</td>\n",
       "    </tr>\n",
       "    <tr>\n",
       "      <th>that</th>\n",
       "      <td>0.169762</td>\n",
       "    </tr>\n",
       "    <tr>\n",
       "      <th>of</th>\n",
       "      <td>0.166296</td>\n",
       "    </tr>\n",
       "    <tr>\n",
       "      <th>...</th>\n",
       "      <td>...</td>\n",
       "    </tr>\n",
       "    <tr>\n",
       "      <th>fcs</th>\n",
       "      <td>0.000000</td>\n",
       "    </tr>\n",
       "    <tr>\n",
       "      <th>fd</th>\n",
       "      <td>0.000000</td>\n",
       "    </tr>\n",
       "    <tr>\n",
       "      <th>fda</th>\n",
       "      <td>0.000000</td>\n",
       "    </tr>\n",
       "    <tr>\n",
       "      <th>fdd</th>\n",
       "      <td>0.000000</td>\n",
       "    </tr>\n",
       "    <tr>\n",
       "      <th>ยงade</th>\n",
       "      <td>0.000000</td>\n",
       "    </tr>\n",
       "  </tbody>\n",
       "</table>\n",
       "<p>67659 rows × 1 columns</p>\n",
       "</div>"
      ],
      "text/plain": [
       "          tfidf\n",
       "fbi    0.445587\n",
       "the    0.413941\n",
       "comey  0.200964\n",
       "that   0.169762\n",
       "of     0.166296\n",
       "...         ...\n",
       "fcs    0.000000\n",
       "fd     0.000000\n",
       "fda    0.000000\n",
       "fdd    0.000000\n",
       "ยงade  0.000000\n",
       "\n",
       "[67659 rows x 1 columns]"
      ]
     },
     "execution_count": 11,
     "metadata": {},
     "output_type": "execute_result"
    }
   ],
   "source": [
    "feature_names = cv.get_feature_names()\n",
    " \n",
    "#get tfidf vector for first document\n",
    "first_document_vector=tf_idf_vector[0]\n",
    " \n",
    "#print the scores\n",
    "df = pd.DataFrame(first_document_vector.T.todense(), index=feature_names, columns=[\"tfidf\"])\n",
    "df.sort_values(by=[\"tfidf\"],ascending=False)"
   ]
  },
  {
   "cell_type": "code",
   "execution_count": 15,
   "metadata": {},
   "outputs": [],
   "source": [
    "data_text = info_df[['text']].astype('str')"
   ]
  },
  {
   "cell_type": "code",
   "execution_count": 16,
   "metadata": {},
   "outputs": [
    {
     "data": {
      "text/plain": [
       "(6335, 1)"
      ]
     },
     "execution_count": 16,
     "metadata": {},
     "output_type": "execute_result"
    }
   ],
   "source": [
    "data_text.shape"
   ]
  },
  {
   "cell_type": "code",
   "execution_count": 20,
   "metadata": {},
   "outputs": [
    {
     "name": "stderr",
     "output_type": "stream",
     "text": [
      "[nltk_data] Downloading package stopwords to /home/rupeek/nltk_data...\n",
      "[nltk_data]   Unzipping corpora/stopwords.zip.\n"
     ]
    },
    {
     "data": {
      "text/plain": [
       "True"
      ]
     },
     "execution_count": 20,
     "metadata": {},
     "output_type": "execute_result"
    }
   ],
   "source": [
    "import nltk\n",
    "nltk.download('stopwords')"
   ]
  },
  {
   "cell_type": "code",
   "execution_count": 22,
   "metadata": {},
   "outputs": [],
   "source": [
    "stopw=stopwords.words('english')\n",
    "stopw\n",
    "def stopwords_remove(x):\n",
    "    terms=x.split()#get the words\n",
    "    terms=[w for w in terms if w not in stopw]#if word isnt possible in stopw\n",
    "    sentence=' '.join(terms)#joining words after stopword removal\n",
    "    return sentence\n",
    "data_text['Refined_text']=data_text['text'].apply(lambda x: stopwords_remove(x))"
   ]
  },
  {
   "cell_type": "code",
   "execution_count": 23,
   "metadata": {},
   "outputs": [],
   "source": [
    "def word_count(x):#no. of terms in data\n",
    "    terms = x.split()\n",
    "    return len(terms)\n",
    "data_text['Word_Count']=data_text['Refined_text'].apply(lambda x: word_count(x))"
   ]
  },
  {
   "cell_type": "code",
   "execution_count": 24,
   "metadata": {},
   "outputs": [
    {
     "data": {
      "text/html": [
       "<div>\n",
       "<style scoped>\n",
       "    .dataframe tbody tr th:only-of-type {\n",
       "        vertical-align: middle;\n",
       "    }\n",
       "\n",
       "    .dataframe tbody tr th {\n",
       "        vertical-align: top;\n",
       "    }\n",
       "\n",
       "    .dataframe thead th {\n",
       "        text-align: right;\n",
       "    }\n",
       "</style>\n",
       "<table border=\"1\" class=\"dataframe\">\n",
       "  <thead>\n",
       "    <tr style=\"text-align: right;\">\n",
       "      <th></th>\n",
       "      <th>text</th>\n",
       "      <th>Refined_text</th>\n",
       "      <th>Word_Count</th>\n",
       "    </tr>\n",
       "  </thead>\n",
       "  <tbody>\n",
       "    <tr>\n",
       "      <th>0</th>\n",
       "      <td>Daniel Greenfield, a Shillman Journalism Fello...</td>\n",
       "      <td>Daniel Greenfield, Shillman Journalism Fellow ...</td>\n",
       "      <td>765</td>\n",
       "    </tr>\n",
       "    <tr>\n",
       "      <th>1</th>\n",
       "      <td>Google Pinterest Digg Linkedin Reddit Stumbleu...</td>\n",
       "      <td>Google Pinterest Digg Linkedin Reddit Stumbleu...</td>\n",
       "      <td>272</td>\n",
       "    </tr>\n",
       "    <tr>\n",
       "      <th>2</th>\n",
       "      <td>U.S. Secretary of State John F. Kerry said Mon...</td>\n",
       "      <td>U.S. Secretary State John F. Kerry said Monday...</td>\n",
       "      <td>259</td>\n",
       "    </tr>\n",
       "    <tr>\n",
       "      <th>3</th>\n",
       "      <td>— Kaydee King (@KaydeeKing) November 9, 2016 T...</td>\n",
       "      <td>— Kaydee King (@KaydeeKing) November 9, 2016 T...</td>\n",
       "      <td>277</td>\n",
       "    </tr>\n",
       "    <tr>\n",
       "      <th>4</th>\n",
       "      <td>It's primary day in New York and front-runners...</td>\n",
       "      <td>It's primary day New York front-runners Hillar...</td>\n",
       "      <td>197</td>\n",
       "    </tr>\n",
       "  </tbody>\n",
       "</table>\n",
       "</div>"
      ],
      "text/plain": [
       "                                                text  \\\n",
       "0  Daniel Greenfield, a Shillman Journalism Fello...   \n",
       "1  Google Pinterest Digg Linkedin Reddit Stumbleu...   \n",
       "2  U.S. Secretary of State John F. Kerry said Mon...   \n",
       "3  — Kaydee King (@KaydeeKing) November 9, 2016 T...   \n",
       "4  It's primary day in New York and front-runners...   \n",
       "\n",
       "                                        Refined_text  Word_Count  \n",
       "0  Daniel Greenfield, Shillman Journalism Fellow ...         765  \n",
       "1  Google Pinterest Digg Linkedin Reddit Stumbleu...         272  \n",
       "2  U.S. Secretary State John F. Kerry said Monday...         259  \n",
       "3  — Kaydee King (@KaydeeKing) November 9, 2016 T...         277  \n",
       "4  It's primary day New York front-runners Hillar...         197  "
      ]
     },
     "execution_count": 24,
     "metadata": {},
     "output_type": "execute_result"
    }
   ],
   "source": [
    "data_text.head()"
   ]
  },
  {
   "cell_type": "code",
   "execution_count": 25,
   "metadata": {},
   "outputs": [
    {
     "data": {
      "text/plain": [
       "count     6335.000000\n",
       "mean       480.641515\n",
       "std        519.722037\n",
       "min          0.000000\n",
       "25%        182.000000\n",
       "50%        373.000000\n",
       "75%        628.000000\n",
       "max      12212.000000\n",
       "Name: Word_Count, dtype: float64"
      ]
     },
     "execution_count": 25,
     "metadata": {},
     "output_type": "execute_result"
    }
   ],
   "source": [
    "data_text['Word_Count'].describe()"
   ]
  },
  {
   "cell_type": "markdown",
   "metadata": {},
   "source": [
    "## Evaluation of mode"
   ]
  },
  {
   "cell_type": "code",
   "execution_count": 26,
   "metadata": {},
   "outputs": [
    {
     "data": {
      "image/png": "[encoded data removed]",
      "text/plain": [
       "<Figure size 720x360 with 1 Axes>"
      ]
     },
     "metadata": {
      "needs_background": "light"
     },
     "output_type": "display_data"
    }
   ],
   "source": [
    "fig = plt.figure(figsize=(10,5))\n",
    "\n",
    "plt.hist(\n",
    "    data_text['Word_Count'],\n",
    "    bins=20,\n",
    "    color='#60505C'\n",
    ")\n",
    "\n",
    "plt.title('Distribution - Article Word Count', fontsize=16)\n",
    "plt.ylabel('Frequency', fontsize=12)\n",
    "plt.xlabel('Word Count', fontsize=12)\n",
    "\n",
    "plt.show()"
   ]
  },
  {
   "cell_type": "code",
   "execution_count": 27,
   "metadata": {},
   "outputs": [],
   "source": [
    "headline_sentences=[''.join(text) for text in data_text['Refined_text']]"
   ]
  },
  {
   "cell_type": "code",
   "execution_count": 28,
   "metadata": {},
   "outputs": [],
   "source": [
    "vectorizer = CountVectorizer(max_features=5000)#top 5000 words;co occurance matrix creation\n",
    "#x_counts = vectorizer.fit_transform(headline_sentences)"
   ]
  },
  {
   "cell_type": "code",
   "execution_count": 29,
   "metadata": {},
   "outputs": [
    {
     "data": {
      "text/plain": [
       "<6335x5000 sparse matrix of type '<class 'numpy.int64'>'\n",
       "\twith 1502713 stored elements in Compressed Sparse Row format>"
      ]
     },
     "execution_count": 29,
     "metadata": {},
     "output_type": "execute_result"
    }
   ],
   "source": [
    "#x_counts"
   ]
  },
  {
   "cell_type": "code",
   "execution_count": 30,
   "metadata": {},
   "outputs": [],
   "source": [
    "transformer = TfidfTransformer(smooth_idf=False);#transformer\n",
    "x_tfidf = transformer.fit_transform(x_counts);"
   ]
  },
  {
   "cell_type": "code",
   "execution_count": 32,
   "metadata": {},
   "outputs": [],
   "source": [
    "import os\n",
    "a = os.listdir('/home/rupeek/Desktop/ML &AI/Fake news detection/sentences_tokenized/')\n",
    "import re\n",
    "def sorted_aphanumeric(data):\n",
    "    convert = lambda text: int(text) if text.isdigit() else text.lower()\n",
    "    alphanum_key = lambda key: [ convert(c) for c in re.split('([0-9]+)', key) ] \n",
    "    return sorted(data, key=alphanum_key)\n",
    "\n",
    "a = sorted_aphanumeric(a)\n",
    "b =[]\n",
    "for i in a:\n",
    "    i = 'sentences_tokenized/'+i\n",
    "    b.append(str(i)) \n",
    "vect_matrix = vectorizer.fit_transform(headline_sentences)"
   ]
  },
  {
   "cell_type": "code",
   "execution_count": 33,
   "metadata": {},
   "outputs": [
    {
     "data": {
      "text/plain": [
       "(6335, 5000)"
      ]
     },
     "execution_count": 33,
     "metadata": {},
     "output_type": "execute_result"
    }
   ],
   "source": [
    "vect_matrix.shape\n"
   ]
  },
  {
   "cell_type": "markdown",
   "metadata": {},
   "source": [
    "## Training and Testing the data"
   ]
  },
  {
   "cell_type": "code",
   "execution_count": 34,
   "metadata": {},
   "outputs": [],
   "source": [
    "train_features, test_features = vect_matrix[:400,],vect_matrix[401:563,]\n",
    "train_labels, test_labels = info_df['label'][:400] , info_df['label'][401:563]"
   ]
  },
  {
   "cell_type": "markdown",
   "metadata": {},
   "source": [
    "### Conclusion"
   ]
  },
  {
   "cell_type": "markdown",
   "metadata": {},
   "source": [
    "## Logistic regression"
   ]
  },
  {
   "cell_type": "code",
   "execution_count": 35,
   "metadata": {},
   "outputs": [],
   "source": [
    "logistic = linear_model.LogisticRegression()\n",
    "\n",
    "logr= logistic.fit(train_features,train_labels)"
   ]
  },
  {
   "cell_type": "code",
   "execution_count": 53,
   "metadata": {},
   "outputs": [
    {
     "name": "stdout",
     "output_type": "stream",
     "text": [
      "Accuracy: 87.65%\n"
     ]
    }
   ],
   "source": [
    "ac0=logr.score(test_features,test_labels)\n",
    "print(\"Accuracy: %.2f%%\" % (ac0 * 100.0))"
   ]
  },
  {
   "cell_type": "code",
   "execution_count": 37,
   "metadata": {},
   "outputs": [
    {
     "name": "stdout",
     "output_type": "stream",
     "text": [
      "[[69 12]\n",
      " [ 8 73]]\n"
     ]
    },
    {
     "data": {
      "image/png": "[encoded data removed]",
      "text/plain": [
       "<Figure size 288x288 with 2 Axes>"
      ]
     },
     "metadata": {
      "needs_background": "light"
     },
     "output_type": "display_data"
    }
   ],
   "source": [
    "pred = logr.predict(test_features)\n",
    "labels = ['x', 'y']\n",
    "cm = confusion_matrix(test_labels, pred)\n",
    "print(cm)\n",
    "plt.matshow(cm)\n",
    "plt.colorbar()\n",
    "plt.show()"
   ]
  },
  {
   "cell_type": "code",
   "execution_count": 38,
   "metadata": {},
   "outputs": [
    {
     "name": "stdout",
     "output_type": "stream",
     "text": [
      "              precision    recall  f1-score   support\n",
      "\n",
      "        FAKE       0.90      0.85      0.87        81\n",
      "        REAL       0.86      0.90      0.88        81\n",
      "\n",
      "    accuracy                           0.88       162\n",
      "   macro avg       0.88      0.88      0.88       162\n",
      "weighted avg       0.88      0.88      0.88       162\n",
      "\n"
     ]
    }
   ],
   "source": [
    "print(classification_report(test_labels, pred))\n"
   ]
  },
  {
   "cell_type": "markdown",
   "metadata": {},
   "source": [
    "## Multinomial classifier"
   ]
  },
  {
   "cell_type": "code",
   "execution_count": 52,
   "metadata": {},
   "outputs": [
    {
     "name": "stdout",
     "output_type": "stream",
     "text": [
      "Accuracy: 84.57%\n"
     ]
    }
   ],
   "source": [
    "mnb = MultinomialNB()\n",
    "mnb.fit(train_features,train_labels)\n",
    "ac1=mnb.score(test_features,test_labels)\n",
    "print(\"Accuracy: %.2f%%\" % (ac1 * 100.0))"
   ]
  },
  {
   "cell_type": "code",
   "execution_count": 40,
   "metadata": {},
   "outputs": [
    {
     "name": "stdout",
     "output_type": "stream",
     "text": [
      "[[63 18]\n",
      " [ 7 74]]\n"
     ]
    },
    {
     "data": {
      "image/png": "[encoded data removed]",
      "text/plain": [
       "<Figure size 288x288 with 2 Axes>"
      ]
     },
     "metadata": {
      "needs_background": "light"
     },
     "output_type": "display_data"
    }
   ],
   "source": [
    "pred = mnb.predict(test_features)\n",
    "labels = ['x', 'y']\n",
    "cm = confusion_matrix(test_labels, pred)\n",
    "print(cm)\n",
    "plt.matshow(cm)\n",
    "plt.colorbar()\n",
    "plt.show()"
   ]
  },
  {
   "cell_type": "code",
   "execution_count": 41,
   "metadata": {},
   "outputs": [
    {
     "name": "stdout",
     "output_type": "stream",
     "text": [
      "              precision    recall  f1-score   support\n",
      "\n",
      "        FAKE       0.90      0.78      0.83        81\n",
      "        REAL       0.80      0.91      0.86        81\n",
      "\n",
      "    accuracy                           0.85       162\n",
      "   macro avg       0.85      0.85      0.84       162\n",
      "weighted avg       0.85      0.85      0.84       162\n",
      "\n"
     ]
    }
   ],
   "source": [
    "print(classification_report(test_labels, pred))\n"
   ]
  },
  {
   "cell_type": "markdown",
   "metadata": {},
   "source": [
    "## Random forest classifier"
   ]
  },
  {
   "cell_type": "code",
   "execution_count": 42,
   "metadata": {},
   "outputs": [
    {
     "data": {
      "text/plain": [
       "0.7716049382716049"
      ]
     },
     "execution_count": 42,
     "metadata": {},
     "output_type": "execute_result"
    }
   ],
   "source": [
    "clf = RandomForestClassifier(max_depth=3, random_state=0)\n",
    "clf.fit(train_features,train_labels)\n",
    "clf.score(test_features,test_labels)\n"
   ]
  },
  {
   "cell_type": "code",
   "execution_count": 51,
   "metadata": {},
   "outputs": [
    {
     "name": "stdout",
     "output_type": "stream",
     "text": [
      "[[52 29]\n",
      " [ 8 73]]\n"
     ]
    },
    {
     "data": {
      "image/png": "[encoded data removed]",
      "text/plain": [
       "<Figure size 288x288 with 2 Axes>"
      ]
     },
     "metadata": {
      "needs_background": "light"
     },
     "output_type": "display_data"
    },
    {
     "name": "stdout",
     "output_type": "stream",
     "text": [
      "Accuracy: 77.16%\n"
     ]
    }
   ],
   "source": [
    "pred2 = clf.predict(test_features)\n",
    "labels = ['x', 'y']\n",
    "cm = confusion_matrix(test_labels, pred2)\n",
    "print(cm)\n",
    "plt.matshow(cm)\n",
    "plt.colorbar()\n",
    "plt.show()\n",
    "ac2 = accuracy_score(test_labels, pred2)\n",
    "print(\"Accuracy: %.2f%%\" % (ac2 * 100.0))"
   ]
  },
  {
   "cell_type": "code",
   "execution_count": 44,
   "metadata": {},
   "outputs": [
    {
     "name": "stdout",
     "output_type": "stream",
     "text": [
      "              precision    recall  f1-score   support\n",
      "\n",
      "        FAKE       0.87      0.64      0.74        81\n",
      "        REAL       0.72      0.90      0.80        81\n",
      "\n",
      "    accuracy                           0.77       162\n",
      "   macro avg       0.79      0.77      0.77       162\n",
      "weighted avg       0.79      0.77      0.77       162\n",
      "\n"
     ]
    }
   ],
   "source": [
    "print(classification_report(test_labels, pred))\n"
   ]
  },
  {
   "cell_type": "markdown",
   "metadata": {},
   "source": [
    "## XGB classifier"
   ]
  },
  {
   "cell_type": "code",
   "execution_count": 50,
   "metadata": {},
   "outputs": [
    {
     "name": "stdout",
     "output_type": "stream",
     "text": [
      "Accuracy: 80.25%\n"
     ]
    }
   ],
   "source": [
    "model = XGBClassifier()\n",
    "model.fit(train_features, train_labels)\n",
    "y_pred = model.predict(test_features)\n",
    "predictions = [value for value in y_pred]\n",
    "ac3 = accuracy_score(test_labels, predictions)\n",
    "print(\"Accuracy: %.2f%%\" % (ac3 * 100.0))"
   ]
  },
  {
   "cell_type": "code",
   "execution_count": 48,
   "metadata": {},
   "outputs": [
    {
     "name": "stdout",
     "output_type": "stream",
     "text": [
      "[[58 23]\n",
      " [ 9 72]]\n"
     ]
    },
    {
     "data": {
      "image/png": "[encoded data removed]",
      "text/plain": [
       "<Figure size 288x288 with 2 Axes>"
      ]
     },
     "metadata": {
      "needs_background": "light"
     },
     "output_type": "display_data"
    }
   ],
   "source": [
    "pred = model.predict(test_features)\n",
    "labels = ['x', 'y']\n",
    "cm = confusion_matrix(test_labels, pred)\n",
    "print(cm)\n",
    "plt.matshow(cm)\n",
    "plt.colorbar()\n",
    "plt.show()"
   ]
  },
  {
   "cell_type": "code",
   "execution_count": 49,
   "metadata": {},
   "outputs": [
    {
     "name": "stdout",
     "output_type": "stream",
     "text": [
      "              precision    recall  f1-score   support\n",
      "\n",
      "        FAKE       0.87      0.72      0.78        81\n",
      "        REAL       0.76      0.89      0.82        81\n",
      "\n",
      "    accuracy                           0.80       162\n",
      "   macro avg       0.81      0.80      0.80       162\n",
      "weighted avg       0.81      0.80      0.80       162\n",
      "\n"
     ]
    }
   ],
   "source": [
    "print(classification_report(test_labels, pred))\n"
   ]
  },
  {
   "cell_type": "markdown",
   "metadata": {},
   "source": [
    "## Accuracy"
   ]
  },
  {
   "cell_type": "code",
   "execution_count": null,
   "metadata": {},
   "outputs": [],
   "source": [
    "accuracy=[ac0,ac1,ac2,ac3]\n",
    "classifiers=['LogisticRegression','MNB','RFC','XGB']\n",
    "summ = pd.DataFrame({'accuracy':accuracy}, index= classifiers)\n",
    "summ"
   ]
  },
  {
   "cell_type": "code",
   "execution_count": 55,
   "metadata": {},
   "outputs": [
    {
     "name": "stdout",
     "output_type": "stream",
     "text": [
      "Accuracy of models\n"
     ]
    },
    {
     "data": {
      "image/png": "[encoded data removed]",
      "text/plain": [
       "<Figure size 432x288 with 1 Axes>"
      ]
     },
     "metadata": {
      "needs_background": "light"
     },
     "output_type": "display_data"
    }
   ],
   "source": [
    "print(\"Accuracy of models\")\n",
    "\n",
    "plt.bar(0,ac0)\n",
    "plt.bar(1,ac1)\n",
    "plt.bar(2,ac2)\n",
    "plt.bar(3,ac3)\n",
    "\n",
    "plt.xticks([0,1,2,3,4], ['LogisticRegression','MNB','RFC','XGB'])\n",
    "plt.show()"
   ]
  }
 ],
 "metadata": {
  "kernelspec": {
   "display_name": "Python 3",
   "language": "python",
   "name": "python3"
  },
  "language_info": {
   "codemirror_mode": {
    "name": "ipython",
    "version": 3
   },
   "file_extension": ".py",
   "mimetype": "text/x-python",
   "name": "python",
   "nbconvert_exporter": "python",
   "pygments_lexer": "ipython3",
   "version": "3.7.6"
  }
 },
 "nbformat": 4,
 "nbformat_minor": 4
}
